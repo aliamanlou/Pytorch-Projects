{
  "nbformat": 4,
  "nbformat_minor": 0,
  "metadata": {
    "colab": {
      "provenance": []
    },
    "kernelspec": {
      "name": "python3",
      "display_name": "Python 3"
    },
    "language_info": {
      "name": "python"
    }
  },
  "cells": [
    {
      "cell_type": "code",
      "execution_count": 1,
      "metadata": {
        "id": "gQxmuM2BkqbC"
      },
      "outputs": [],
      "source": [
        "# Imports\n",
        "\n",
        "import torch\n",
        "import torch.nn as nn"
      ]
    },
    {
      "cell_type": "code",
      "source": [
        "class LeNet(nn.Module):\n",
        "  def __init__(self):\n",
        "    super(LeNet,self).__init__()\n",
        "\n",
        "    self.conv1 = nn.Conv2d(1,6, kernel_size=5,stride=1, padding=0)\n",
        "    self.pool = nn.AvgPool2d(kernel_size=2, stride=2, padding=0)\n",
        "    self.conv2 = nn.Conv2d(6,16,kernel_size=5,stride=1,padding=0)\n",
        "    self.conv3 = nn.Conv2d(16,120, kernel_size=5, stride=1,padding=0)\n",
        "    self.fc1 = nn.Linear(120,84)\n",
        "    self.fc2 = nn.Linear(84,10)\n",
        "    self.relu = nn.ReLU()\n",
        "\n",
        "\n",
        "\n",
        "  def forward(self,x):\n",
        "    x = self.relu(self.conv1(x))\n",
        "    x = self.relu(self.pool(x))\n",
        "    x = self.relu(self.conv2(x))\n",
        "    x = self.relu(self.pool(x))\n",
        "    x = self.relu(self.conv3(x))\n",
        "    # N (Batch Size) * 120 (Number of Channels) * 1 (Height) * 1 (Width) ->  N * 120\n",
        "    x = x.reshape(x.shape[0],-1)\n",
        "\n",
        "    x = self.relu(self.fc1(x))\n",
        "    x = self.fc2(x)\n",
        "\n",
        "    return x\n"
      ],
      "metadata": {
        "id": "VBvz4rRulBtq"
      },
      "execution_count": 2,
      "outputs": []
    },
    {
      "cell_type": "code",
      "source": [
        "# Testing the network architecture with batch_size = 7\n",
        "\n",
        "input = torch.rand(7,1,32,32)\n",
        "model = LeNet()\n",
        "output = model(input)\n",
        "output.shape"
      ],
      "metadata": {
        "colab": {
          "base_uri": "https://localhost:8080/"
        },
        "id": "G_mTNJHQlMqY",
        "outputId": "eb4ffca8-03e0-43e3-d705-eb5706f1be23"
      },
      "execution_count": 3,
      "outputs": [
        {
          "output_type": "execute_result",
          "data": {
            "text/plain": [
              "torch.Size([7, 10])"
            ]
          },
          "metadata": {},
          "execution_count": 3
        }
      ]
    },
    {
      "cell_type": "code",
      "source": [],
      "metadata": {
        "id": "Dz2Qs-e7ExuG"
      },
      "execution_count": 3,
      "outputs": []
    }
  ]
}